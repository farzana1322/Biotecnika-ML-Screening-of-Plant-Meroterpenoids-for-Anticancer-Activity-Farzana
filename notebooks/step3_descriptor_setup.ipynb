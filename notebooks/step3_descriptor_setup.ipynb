{
 "cells": [
  {
   "cell_type": "markdown",
   "id": "ffa1ad68",
   "metadata": {},
   "source": [
    "# 🧬 Step 3 — Descriptor Calculation  \n",
    "**📅 Date:** 21 August 2025  \n",
    "**👩‍🔬 Author:** Mohammed Farzana Begum  \n",
    "**📁 Notebook Path:** notebooks/step3_descriptor_setup.ipynb  \n",
    "\n",
    "---\n",
    "\n",
    "## 🎯 Objective  \n",
    "Generate molecular descriptors for curated meroterpenoids using RDKit and Mordred. These descriptors will serve as input features for ML modeling in Step 4.\n"
   ]
  },
  {
   "cell_type": "code",
   "execution_count": null,
   "id": "496899fa",
   "metadata": {},
   "outputs": [],
   "source": []
  },
  {
   "cell_type": "code",
   "execution_count": 1,
   "id": "7d16e44a",
   "metadata": {},
   "outputs": [
    {
     "name": "stdout",
     "output_type": "stream",
     "text": [
      "<rdkit.Chem.rdchem.Mol object at 0x00000204CC10EDD0>\n"
     ]
    }
   ],
   "source": [
    "from rdkit import Chem\n",
    "print(Chem.MolFromSmiles(\"CCO\"))\n"
   ]
  },
  {
   "cell_type": "code",
   "execution_count": 2,
   "id": "b8682c32",
   "metadata": {},
   "outputs": [],
   "source": [
    "from rdkit import Chem\n",
    "from rdkit.Chem import Descriptors, AllChem, rdMolDescriptors\n",
    "import pandas as pd\n",
    "import numpy as np\n"
   ]
  },
  {
   "cell_type": "markdown",
   "id": "c2f72a08",
   "metadata": {},
   "source": [
    "## 📥 Load Curated SMILES  \n",
    "Load canonical SMILES from the cleaned dataset. These molecules have been standardized and deduplicated in Step 2.\n"
   ]
  },
  {
   "cell_type": "code",
   "execution_count": 6,
   "id": "64ae5339",
   "metadata": {},
   "outputs": [
    {
     "name": "stdout",
     "output_type": "stream",
     "text": [
      "c:\\Users\\farza\\Biotecnika-ML-Screening-of-Plant-Meroterpenoids-for-Anticancer-Activity-Farzana\\notebooks\n"
     ]
    }
   ],
   "source": [
    "import os\n",
    "print(os.getcwd())\n"
   ]
  },
  {
   "cell_type": "code",
   "execution_count": 2,
   "id": "ab8c79b5",
   "metadata": {},
   "outputs": [
    {
     "data": {
      "text/html": [
       "<div>\n",
       "<style scoped>\n",
       "    .dataframe tbody tr th:only-of-type {\n",
       "        vertical-align: middle;\n",
       "    }\n",
       "\n",
       "    .dataframe tbody tr th {\n",
       "        vertical-align: top;\n",
       "    }\n",
       "\n",
       "    .dataframe thead th {\n",
       "        text-align: right;\n",
       "    }\n",
       "</style>\n",
       "<table border=\"1\" class=\"dataframe\">\n",
       "  <thead>\n",
       "    <tr style=\"text-align: right;\">\n",
       "      <th></th>\n",
       "      <th>compound_id</th>\n",
       "      <th>smiles</th>\n",
       "    </tr>\n",
       "  </thead>\n",
       "  <tbody>\n",
       "    <tr>\n",
       "      <th>0</th>\n",
       "      <td>CMPD001</td>\n",
       "      <td>CC1=CC(=O)C=CC1O</td>\n",
       "    </tr>\n",
       "    <tr>\n",
       "      <th>1</th>\n",
       "      <td>CMPD002</td>\n",
       "      <td>CCC2C1CCC(C2)C(=O)O</td>\n",
       "    </tr>\n",
       "    <tr>\n",
       "      <th>2</th>\n",
       "      <td>CMPD003</td>\n",
       "      <td>CC(C)C1=CC=C(C=C1)C(C)C(=O)O</td>\n",
       "    </tr>\n",
       "  </tbody>\n",
       "</table>\n",
       "</div>"
      ],
      "text/plain": [
       "  compound_id                        smiles\n",
       "0     CMPD001              CC1=CC(=O)C=CC1O\n",
       "1     CMPD002           CCC2C1CCC(C2)C(=O)O\n",
       "2     CMPD003  CC(C)C1=CC=C(C=C1)C(C)C(=O)O"
      ]
     },
     "execution_count": 2,
     "metadata": {},
     "output_type": "execute_result"
    }
   ],
   "source": [
    "import pandas as pd\n",
    "\n",
    "df_raw = pd.read_csv(\"../data/raw_meroterpenoids.csv\")\n",
    "df_raw.head()\n"
   ]
  },
  {
   "cell_type": "code",
   "execution_count": 4,
   "id": "b9ee1f4d",
   "metadata": {},
   "outputs": [
    {
     "data": {
      "text/html": [
       "<div>\n",
       "<style scoped>\n",
       "    .dataframe tbody tr th:only-of-type {\n",
       "        vertical-align: middle;\n",
       "    }\n",
       "\n",
       "    .dataframe tbody tr th {\n",
       "        vertical-align: top;\n",
       "    }\n",
       "\n",
       "    .dataframe thead th {\n",
       "        text-align: right;\n",
       "    }\n",
       "</style>\n",
       "<table border=\"1\" class=\"dataframe\">\n",
       "  <thead>\n",
       "    <tr style=\"text-align: right;\">\n",
       "      <th></th>\n",
       "      <th>compound_id</th>\n",
       "      <th>smiles</th>\n",
       "      <th>canonical_smiles</th>\n",
       "    </tr>\n",
       "  </thead>\n",
       "  <tbody>\n",
       "    <tr>\n",
       "      <th>0</th>\n",
       "      <td>CMPD001</td>\n",
       "      <td>CC1=CC(=O)C=CC1O</td>\n",
       "      <td>CC1=CC(=O)C=CC1O</td>\n",
       "    </tr>\n",
       "    <tr>\n",
       "      <th>1</th>\n",
       "      <td>CMPD002</td>\n",
       "      <td>C1CCC2C(C1)CCC2C(=O)O</td>\n",
       "      <td>O=C(O)C1CCC2CCCCC21</td>\n",
       "    </tr>\n",
       "    <tr>\n",
       "      <th>2</th>\n",
       "      <td>CMPD003</td>\n",
       "      <td>CC(C)C1=CC=C(C=C1)C(C)C(=O)O</td>\n",
       "      <td>CC(C)c1ccc(C(C)C(=O)O)cc1</td>\n",
       "    </tr>\n",
       "  </tbody>\n",
       "</table>\n",
       "</div>"
      ],
      "text/plain": [
       "  compound_id                        smiles           canonical_smiles\n",
       "0     CMPD001              CC1=CC(=O)C=CC1O           CC1=CC(=O)C=CC1O\n",
       "1     CMPD002         C1CCC2C(C1)CCC2C(=O)O        O=C(O)C1CCC2CCCCC21\n",
       "2     CMPD003  CC(C)C1=CC=C(C=C1)C(C)C(=O)O  CC(C)c1ccc(C(C)C(=O)O)cc1"
      ]
     },
     "execution_count": 4,
     "metadata": {},
     "output_type": "execute_result"
    }
   ],
   "source": [
    "from rdkit import Chem\n",
    "from rdkit.Chem import SaltRemover\n",
    "import pandas as pd\n",
    "\n",
    "df_raw = pd.read_csv(\"../data/raw_meroterpenoids.csv\")\n",
    "\n",
    "def standardize_smiles(smiles):\n",
    "    try:\n",
    "        mol = Chem.MolFromSmiles(smiles)\n",
    "        if mol is None:\n",
    "            return None\n",
    "        remover = SaltRemover.SaltRemover()\n",
    "        mol = remover.StripMol(mol)\n",
    "        Chem.SanitizeMol(mol)\n",
    "        return Chem.MolToSmiles(mol, canonical=True)\n",
    "    except:\n",
    "        return None\n",
    "\n",
    "df_raw[\"canonical_smiles\"] = df_raw[\"smiles\"].apply(standardize_smiles)\n",
    "df_curated = df_raw.dropna(subset=[\"canonical_smiles\"])\n",
    "df_curated.to_csv(\"../data/curated_smiles.csv\", index=False)\n",
    "df_curated.head()\n"
   ]
  },
  {
   "cell_type": "code",
   "execution_count": 5,
   "id": "d45a6c22",
   "metadata": {},
   "outputs": [
    {
     "name": "stderr",
     "output_type": "stream",
     "text": [
      "[20:52:37] DEPRECATION WARNING: please use MorganGenerator\n",
      "[20:52:37] DEPRECATION WARNING: please use MorganGenerator\n",
      "[20:52:37] DEPRECATION WARNING: please use MorganGenerator\n"
     ]
    },
    {
     "data": {
      "text/html": [
       "<div>\n",
       "<style scoped>\n",
       "    .dataframe tbody tr th:only-of-type {\n",
       "        vertical-align: middle;\n",
       "    }\n",
       "\n",
       "    .dataframe tbody tr th {\n",
       "        vertical-align: top;\n",
       "    }\n",
       "\n",
       "    .dataframe thead th {\n",
       "        text-align: right;\n",
       "    }\n",
       "</style>\n",
       "<table border=\"1\" class=\"dataframe\">\n",
       "  <thead>\n",
       "    <tr style=\"text-align: right;\">\n",
       "      <th></th>\n",
       "      <th>MolWt</th>\n",
       "      <th>LogP</th>\n",
       "      <th>TPSA</th>\n",
       "      <th>NumHDonors</th>\n",
       "      <th>NumHAcceptors</th>\n",
       "      <th>NumRotatableBonds</th>\n",
       "      <th>RingCount</th>\n",
       "      <th>ECFP_0</th>\n",
       "      <th>ECFP_1</th>\n",
       "      <th>ECFP_2</th>\n",
       "      <th>...</th>\n",
       "      <th>ECFP_1014</th>\n",
       "      <th>ECFP_1015</th>\n",
       "      <th>ECFP_1016</th>\n",
       "      <th>ECFP_1017</th>\n",
       "      <th>ECFP_1018</th>\n",
       "      <th>ECFP_1019</th>\n",
       "      <th>ECFP_1020</th>\n",
       "      <th>ECFP_1021</th>\n",
       "      <th>ECFP_1022</th>\n",
       "      <th>ECFP_1023</th>\n",
       "    </tr>\n",
       "    <tr>\n",
       "      <th>compound_id</th>\n",
       "      <th></th>\n",
       "      <th></th>\n",
       "      <th></th>\n",
       "      <th></th>\n",
       "      <th></th>\n",
       "      <th></th>\n",
       "      <th></th>\n",
       "      <th></th>\n",
       "      <th></th>\n",
       "      <th></th>\n",
       "      <th></th>\n",
       "      <th></th>\n",
       "      <th></th>\n",
       "      <th></th>\n",
       "      <th></th>\n",
       "      <th></th>\n",
       "      <th></th>\n",
       "      <th></th>\n",
       "      <th></th>\n",
       "      <th></th>\n",
       "      <th></th>\n",
       "    </tr>\n",
       "  </thead>\n",
       "  <tbody>\n",
       "    <tr>\n",
       "      <th>CMPD001</th>\n",
       "      <td>124.139</td>\n",
       "      <td>0.4325</td>\n",
       "      <td>37.3</td>\n",
       "      <td>1</td>\n",
       "      <td>2</td>\n",
       "      <td>0</td>\n",
       "      <td>1</td>\n",
       "      <td>0</td>\n",
       "      <td>0</td>\n",
       "      <td>0</td>\n",
       "      <td>...</td>\n",
       "      <td>0</td>\n",
       "      <td>0</td>\n",
       "      <td>0</td>\n",
       "      <td>0</td>\n",
       "      <td>0</td>\n",
       "      <td>1</td>\n",
       "      <td>0</td>\n",
       "      <td>0</td>\n",
       "      <td>0</td>\n",
       "      <td>0</td>\n",
       "    </tr>\n",
       "    <tr>\n",
       "      <th>CMPD002</th>\n",
       "      <td>168.236</td>\n",
       "      <td>2.2874</td>\n",
       "      <td>37.3</td>\n",
       "      <td>1</td>\n",
       "      <td>1</td>\n",
       "      <td>1</td>\n",
       "      <td>2</td>\n",
       "      <td>0</td>\n",
       "      <td>0</td>\n",
       "      <td>0</td>\n",
       "      <td>...</td>\n",
       "      <td>0</td>\n",
       "      <td>0</td>\n",
       "      <td>0</td>\n",
       "      <td>0</td>\n",
       "      <td>0</td>\n",
       "      <td>1</td>\n",
       "      <td>0</td>\n",
       "      <td>0</td>\n",
       "      <td>0</td>\n",
       "      <td>1</td>\n",
       "    </tr>\n",
       "    <tr>\n",
       "      <th>CMPD003</th>\n",
       "      <td>192.258</td>\n",
       "      <td>2.9981</td>\n",
       "      <td>37.3</td>\n",
       "      <td>1</td>\n",
       "      <td>1</td>\n",
       "      <td>3</td>\n",
       "      <td>1</td>\n",
       "      <td>0</td>\n",
       "      <td>1</td>\n",
       "      <td>0</td>\n",
       "      <td>...</td>\n",
       "      <td>0</td>\n",
       "      <td>0</td>\n",
       "      <td>0</td>\n",
       "      <td>0</td>\n",
       "      <td>0</td>\n",
       "      <td>0</td>\n",
       "      <td>0</td>\n",
       "      <td>0</td>\n",
       "      <td>0</td>\n",
       "      <td>0</td>\n",
       "    </tr>\n",
       "  </tbody>\n",
       "</table>\n",
       "<p>3 rows × 1031 columns</p>\n",
       "</div>"
      ],
      "text/plain": [
       "               MolWt    LogP  TPSA  NumHDonors  NumHAcceptors  \\\n",
       "compound_id                                                     \n",
       "CMPD001      124.139  0.4325  37.3           1              2   \n",
       "CMPD002      168.236  2.2874  37.3           1              1   \n",
       "CMPD003      192.258  2.9981  37.3           1              1   \n",
       "\n",
       "             NumRotatableBonds  RingCount  ECFP_0  ECFP_1  ECFP_2  ...  \\\n",
       "compound_id                                                        ...   \n",
       "CMPD001                      0          1       0       0       0  ...   \n",
       "CMPD002                      1          2       0       0       0  ...   \n",
       "CMPD003                      3          1       0       1       0  ...   \n",
       "\n",
       "             ECFP_1014  ECFP_1015  ECFP_1016  ECFP_1017  ECFP_1018  ECFP_1019  \\\n",
       "compound_id                                                                     \n",
       "CMPD001              0          0          0          0          0          1   \n",
       "CMPD002              0          0          0          0          0          1   \n",
       "CMPD003              0          0          0          0          0          0   \n",
       "\n",
       "             ECFP_1020  ECFP_1021  ECFP_1022  ECFP_1023  \n",
       "compound_id                                              \n",
       "CMPD001              0          0          0          0  \n",
       "CMPD002              0          0          0          1  \n",
       "CMPD003              0          0          0          0  \n",
       "\n",
       "[3 rows x 1031 columns]"
      ]
     },
     "execution_count": 5,
     "metadata": {},
     "output_type": "execute_result"
    }
   ],
   "source": [
    "from rdkit import Chem\n",
    "from rdkit.Chem import Descriptors, AllChem, rdMolDescriptors\n",
    "import pandas as pd\n",
    "import numpy as np\n",
    "\n",
    "# Load curated SMILES\n",
    "df = pd.read_csv(\"../data/curated_smiles.csv\")\n",
    "\n",
    "# Define descriptor functions\n",
    "def compute_basic_descriptors(mol):\n",
    "    return {\n",
    "        \"MolWt\": Descriptors.MolWt(mol),\n",
    "        \"LogP\": Descriptors.MolLogP(mol),\n",
    "        \"TPSA\": rdMolDescriptors.CalcTPSA(mol),\n",
    "        \"NumHDonors\": rdMolDescriptors.CalcNumHBD(mol),\n",
    "        \"NumHAcceptors\": rdMolDescriptors.CalcNumHBA(mol),\n",
    "        \"NumRotatableBonds\": rdMolDescriptors.CalcNumRotatableBonds(mol),\n",
    "        \"RingCount\": rdMolDescriptors.CalcNumRings(mol),\n",
    "    }\n",
    "\n",
    "def compute_ecfp(mol, n_bits=1024, radius=2):\n",
    "    fp = AllChem.GetMorganFingerprintAsBitVect(mol, radius, nBits=n_bits)\n",
    "    vec = np.zeros(n_bits, dtype=int)\n",
    "    for i in fp.GetOnBits():\n",
    "        vec[i] = 1\n",
    "    return vec\n",
    "\n",
    "# Build descriptor matrix\n",
    "rows = []\n",
    "for _, row in df.iterrows():\n",
    "    mol = Chem.MolFromSmiles(row[\"canonical_smiles\"])\n",
    "    if mol is None:\n",
    "        continue\n",
    "    desc = compute_basic_descriptors(mol)\n",
    "    fp = compute_ecfp(mol)\n",
    "    for i, bit in enumerate(fp):\n",
    "        desc[f\"ECFP_{i}\"] = bit\n",
    "    desc[\"compound_id\"] = row[\"compound_id\"]\n",
    "    rows.append(desc)\n",
    "\n",
    "# Save matrix\n",
    "desc_df = pd.DataFrame(rows).set_index(\"compound_id\")\n",
    "desc_df.to_csv(\"../data/descriptor_matrix.csv\")\n",
    "desc_df.head()\n"
   ]
  },
  {
   "cell_type": "code",
   "execution_count": 1,
   "id": "9c521100",
   "metadata": {},
   "outputs": [
    {
     "name": "stdout",
     "output_type": "stream",
     "text": [
      "✅ curated_smiles.csv saved to data/ folder\n"
     ]
    }
   ],
   "source": [
    "import pandas as pd\n",
    "\n",
    "# Assuming you have these two lists already\n",
    "compound_ids = ['CMPD001', 'CMPD002', 'CMPD003']  # Replace with your actual IDs\n",
    "canonical_smiles = ['CC(C)C1=CC=CC=C1C(=O)O', 'COC1=CC=CC=C1C(=O)O', 'CCC(=O)OC1=CC=CC=C1']  # Replace with your actual SMILES\n",
    "\n",
    "# Create the DataFrame\n",
    "curated_df = pd.DataFrame({\n",
    "    'compound_id': compound_ids,\n",
    "    'SMILES': canonical_smiles\n",
    "})\n",
    "\n",
    "# Save to CSV\n",
    "curated_df.to_csv('../data/curated_smiles.csv', index=False)\n",
    "print(\"✅ curated_smiles.csv saved to data/ folder\")\n"
   ]
  },
  {
   "cell_type": "code",
   "execution_count": 3,
   "id": "c9e0337b",
   "metadata": {},
   "outputs": [],
   "source": [
    "import pandas as pd\n",
    "from rdkit import Chem\n",
    "from rdkit.Chem.rdFingerprintGenerator import GetMorganGenerator\n",
    "\n",
    "# Load curated SMILES\n",
    "df_smiles = pd.read_csv('../data/curated_smiles.csv')\n",
    "\n",
    "# Convert SMILES to Mol objects\n",
    "df_smiles['Mol'] = df_smiles['SMILES'].apply(Chem.MolFromSmiles)\n",
    "\n",
    "# Initialize Morgan fingerprint generator\n",
    "generator = GetMorganGenerator(radius=2, fpSize=1024)\n",
    "\n",
    "# Generate fingerprints\n",
    "def get_ecfp(mol):\n",
    "    fp = generator.GetFingerprint(mol)\n",
    "    return list(fp)\n",
    "\n",
    "# Apply fingerprint function\n",
    "fp_matrix = df_smiles['Mol'].apply(get_ecfp)\n",
    "fp_df = pd.DataFrame(fp_matrix.tolist())\n",
    "\n",
    "# Combine with Compound_ID\n",
    "df_descriptors = pd.concat([df_smiles[['Compound_ID']], fp_df], axis=1)\n",
    "\n",
    "# Save descriptor matrix\n",
    "df_descriptors.to_csv('../data/descriptor_matrix.csv', index=False)\n"
   ]
  },
  {
   "cell_type": "code",
   "execution_count": 4,
   "id": "30fd3091",
   "metadata": {},
   "outputs": [],
   "source": [
    "import pandas as pd\n",
    "from rdkit import Chem\n",
    "from rdkit.Chem.rdFingerprintGenerator import GetMorganGenerator\n",
    "\n",
    "# Load curated SMILES\n",
    "df_smiles = pd.read_csv('../data/curated_smiles.csv')\n",
    "\n",
    "# Convert SMILES to Mol objects\n",
    "df_smiles['Mol'] = df_smiles['SMILES'].apply(Chem.MolFromSmiles)\n",
    "\n",
    "# Initialize Morgan fingerprint generator\n",
    "generator = GetMorganGenerator(radius=2, fpSize=1024)\n",
    "\n",
    "# Generate fingerprints\n",
    "def get_ecfp(mol):\n",
    "    fp = generator.GetFingerprint(mol)\n",
    "    return list(fp)\n",
    "\n",
    "fp_matrix = df_smiles['Mol'].apply(get_ecfp)\n",
    "fp_df = pd.DataFrame(fp_matrix.tolist())\n",
    "\n",
    "# Combine with Compound_ID\n",
    "df_descriptors = pd.concat([df_smiles[['Compound_ID']], fp_df], axis=1)\n",
    "\n",
    "# Save descriptor matrix\n",
    "df_descriptors.to_csv('../data/descriptor_matrix.csv', index=False)\n"
   ]
  },
  {
   "cell_type": "code",
   "execution_count": 5,
   "id": "352a746b",
   "metadata": {},
   "outputs": [],
   "source": [
    "from rdkit.Chem.rdFingerprintGenerator import GetMorganGenerator\n",
    "from rdkit import Chem, DataStructs\n",
    "import numpy as np\n",
    "import pandas as pd\n",
    "\n",
    "df_smiles = pd.read_csv('../data/curated_smiles.csv')\n",
    "df_smiles['Mol'] = df_smiles['SMILES'].apply(Chem.MolFromSmiles)\n",
    "\n",
    "generator = GetMorganGenerator(radius=2, fpSize=1024)\n",
    "\n",
    "def mol_to_fp(mol):\n",
    "    arr = np.zeros((1,), dtype=int)\n",
    "    DataStructs.ConvertToNumpyArray(generator.GetFingerprint(mol), arr)\n",
    "    return arr\n",
    "\n",
    "fp_array = np.array([mol_to_fp(mol) for mol in df_smiles['Mol']])\n",
    "df_fp = pd.DataFrame(fp_array)\n",
    "df_fp.insert(0, 'Compound_ID', df_smiles['Compound_ID'])\n",
    "df_fp.to_csv('../data/descriptor_matrix.csv', index=False)\n"
   ]
  },
  {
   "cell_type": "code",
   "execution_count": 7,
   "id": "90bc682e",
   "metadata": {},
   "outputs": [
    {
     "data": {
      "text/plain": [
       "'../backups/descriptor_matrix_backup.csv'"
      ]
     },
     "execution_count": 7,
     "metadata": {},
     "output_type": "execute_result"
    }
   ],
   "source": [
    "shutil.copy('../data/descriptor_matrix.csv', '../backups/descriptor_matrix_backup.csv')\n"
   ]
  },
  {
   "cell_type": "code",
   "execution_count": 6,
   "id": "70dcdec7",
   "metadata": {},
   "outputs": [],
   "source": [
    "from rdkit import Chem\n",
    "from rdkit.Chem import rdMolDescriptors\n",
    "from rdkit.Chem.rdFingerprintGenerator import GetMorganGenerator\n",
    "import pandas as pd\n",
    "import numpy as np\n",
    "\n",
    "df = pd.read_csv('../data/virtual_library.csv')\n",
    "\n",
    "# Create Morgan fingerprint generator\n",
    "generator = GetMorganGenerator(radius=2, fpSize=1024)\n",
    "\n",
    "def smiles_to_fp(smiles):\n",
    "    mol = Chem.MolFromSmiles(smiles)\n",
    "    if mol is None:\n",
    "        return None\n",
    "    fp = generator.GetFingerprint(mol)\n",
    "    return np.array(fp)\n",
    "\n",
    "# Generate fingerprints\n",
    "fps = df['SMILES'].apply(smiles_to_fp)\n",
    "fps = fps.dropna()\n",
    "\n",
    "# Convert to DataFrame\n",
    "fp_matrix = pd.DataFrame(fps.tolist())\n",
    "fp_matrix['Compound_ID'] = df.loc[fps.index, 'Compound_ID'].values\n",
    "fp_matrix['SMILES'] = df.loc[fps.index, 'SMILES'].values\n",
    "\n",
    "fp_matrix.to_csv('../data/virtual_descriptors.csv', index=False)\n"
   ]
  },
  {
   "cell_type": "code",
   "execution_count": 7,
   "id": "f606e7c3",
   "metadata": {},
   "outputs": [],
   "source": [
    "import pandas as pd\n",
    "from rdkit import Chem\n",
    "\n",
    "df = pd.read_csv('../data/curated_smiles.csv')\n",
    "\n",
    "def is_valid(smiles):\n",
    "    return Chem.MolFromSmiles(smiles) is not None\n",
    "\n",
    "df['Valid'] = df['SMILES'].apply(is_valid)\n",
    "df_invalid = df[df['Valid'] == False]\n",
    "df_invalid.to_csv('../data/invalid_smiles.csv', index=False)\n"
   ]
  },
  {
   "cell_type": "code",
   "execution_count": 8,
   "id": "6cbb491a",
   "metadata": {},
   "outputs": [
    {
     "name": "stdout",
     "output_type": "stream",
     "text": [
      "Total curated SMILES: 119\n"
     ]
    }
   ],
   "source": [
    "df_curated = pd.read_csv('../data/curated_smiles.csv')\n",
    "print(\"Total curated SMILES:\", len(df_curated))\n"
   ]
  },
  {
   "cell_type": "code",
   "execution_count": 9,
   "id": "53f758f7",
   "metadata": {},
   "outputs": [
    {
     "name": "stdout",
     "output_type": "stream",
     "text": [
      "Total descriptors generated: 110\n"
     ]
    }
   ],
   "source": [
    "df_fp = pd.read_csv('../data/virtual_descriptors.csv')\n",
    "print(\"Total descriptors generated:\", len(df_fp))\n"
   ]
  },
  {
   "cell_type": "code",
   "execution_count": 10,
   "id": "981ceb9c",
   "metadata": {},
   "outputs": [
    {
     "name": "stdout",
     "output_type": "stream",
     "text": [
      "Missing Compound_IDs: {'M024', 'M054', 'M055', 'M080', 'M036', 'M051', 'M056', 'M046', 'M049'}\n"
     ]
    }
   ],
   "source": [
    "missing_ids = set(df_curated['Compound_ID']) - set(df_fp['Compound_ID'])\n",
    "print(\"Missing Compound_IDs:\", missing_ids)\n"
   ]
  }
 ],
 "metadata": {
  "kernelspec": {
   "display_name": "rdkit_env",
   "language": "python",
   "name": "python3"
  },
  "language_info": {
   "codemirror_mode": {
    "name": "ipython",
    "version": 3
   },
   "file_extension": ".py",
   "mimetype": "text/x-python",
   "name": "python",
   "nbconvert_exporter": "python",
   "pygments_lexer": "ipython3",
   "version": "3.13.7"
  }
 },
 "nbformat": 4,
 "nbformat_minor": 5
}
