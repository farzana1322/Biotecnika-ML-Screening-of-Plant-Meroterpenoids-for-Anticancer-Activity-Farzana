{
 "cells": [
  {
   "cell_type": "markdown",
   "id": "61106474",
   "metadata": {},
   "source": [
    "# Step 6 – ADMET Filtering via pkCSM\n",
    "This notebook documents pharmacokinetic and toxicity predictions for top compounds using the pkCSM web interface."
   ]
  },
  {
   "cell_type": "code",
   "execution_count": 1,
   "id": "47af5dac",
   "metadata": {},
   "outputs": [
    {
     "name": "stdout",
     "output_type": "stream",
     "text": [
      "🆕 Starting fresh ADMET results\n"
     ]
    },
    {
     "data": {
      "text/html": [
       "<div>\n",
       "<style scoped>\n",
       "    .dataframe tbody tr th:only-of-type {\n",
       "        vertical-align: middle;\n",
       "    }\n",
       "\n",
       "    .dataframe tbody tr th {\n",
       "        vertical-align: top;\n",
       "    }\n",
       "\n",
       "    .dataframe thead th {\n",
       "        text-align: right;\n",
       "    }\n",
       "</style>\n",
       "<table border=\"1\" class=\"dataframe\">\n",
       "  <thead>\n",
       "    <tr style=\"text-align: right;\">\n",
       "      <th></th>\n",
       "      <th>compound_id</th>\n",
       "      <th>GI_Absorption</th>\n",
       "      <th>BBB_Permeability</th>\n",
       "      <th>CYP3A4_Inhibitor</th>\n",
       "      <th>AMES_Toxicity</th>\n",
       "      <th>Hepatotoxicity</th>\n",
       "    </tr>\n",
       "  </thead>\n",
       "  <tbody>\n",
       "  </tbody>\n",
       "</table>\n",
       "</div>"
      ],
      "text/plain": [
       "Empty DataFrame\n",
       "Columns: [compound_id, GI_Absorption, BBB_Permeability, CYP3A4_Inhibitor, AMES_Toxicity, Hepatotoxicity]\n",
       "Index: []"
      ]
     },
     "execution_count": 1,
     "metadata": {},
     "output_type": "execute_result"
    }
   ],
   "source": [
    "import pandas as pd\n",
    "\n",
    "# Load existing ADMET results\n",
    "try:\n",
    "    admet_df = pd.read_csv('../results/admet_results.csv')\n",
    "    print(\"✅ Existing results loaded\")\n",
    "except FileNotFoundError:\n",
    "    admet_df = pd.DataFrame(columns=[\n",
    "        'compound_id', 'GI_Absorption', 'BBB_Permeability',\n",
    "        'CYP3A4_Inhibitor', 'AMES_Toxicity', 'Hepatotoxicity'\n",
    "    ])\n",
    "    print(\"🆕 Starting fresh ADMET results\")\n",
    "\n",
    "admet_df\n"
   ]
  },
  {
   "cell_type": "code",
   "execution_count": 4,
   "id": "29a7a793",
   "metadata": {},
   "outputs": [
    {
     "ename": "IndentationError",
     "evalue": "unexpected indent (3700890245.py, line 16)",
     "output_type": "error",
     "traceback": [
      "  \u001b[36mCell\u001b[39m\u001b[36m \u001b[39m\u001b[32mIn[4]\u001b[39m\u001b[32m, line 16\u001b[39m\n\u001b[31m    \u001b[39m\u001b[31m= admet_df.append(new_data, ignore_index=True)\u001b[39m\n    ^\n\u001b[31mIndentationError\u001b[39m\u001b[31m:\u001b[39m unexpected indent\n"
     ]
    }
   ],
   "source": [
    "# Add CMPD002 prediction\n",
    "new_data = {\n",
    "    'compound_id': 'CMPD002',\n",
    "    'GI_Absorption': 'High',\n",
    "    'BBB_Permeability': 'Yes',\n",
    "    'CYP3A4_Inhibitor': 'No',\n",
    "    'AMES_Toxicity': 'No',\n",
    "    'Hepatotoxicity': 'Yes'\n",
    "}\n",
    "\n",
    "# Convert new_data to a DataFrame\n",
    "new_row = pd.DataFrame([new_data])\n",
    "\n",
    "# Concatenate the new row to the existing DataFrame\n",
    "admet_df = pd.concat([admet_df, new_row], ignore_index=True)\n",
    " = admet_df.append(new_data, ignore_index=True)\n",
    "admet_df\n"
   ]
  },
  {
   "cell_type": "code",
   "execution_count": 5,
   "id": "9afc5eef",
   "metadata": {},
   "outputs": [
    {
     "name": "stdout",
     "output_type": "stream",
     "text": [
      "✅ CMPD002 saved to admet_results.csv\n"
     ]
    }
   ],
   "source": [
    "import pandas as pd\n",
    "\n",
    "# Create an empty DataFrame\n",
    "admet_df = pd.DataFrame(columns=[\n",
    "    'compound_id',\n",
    "    'GI_Absorption',\n",
    "    'BBB_Permeability',\n",
    "    'CYP3A4_Inhibitor',\n",
    "    'AMES_Toxicity',\n",
    "    'Hepatotoxicity'\n",
    "])\n",
    "\n",
    "# New prediction data\n",
    "new_data = {\n",
    "    'compound_id': 'CMPD002',\n",
    "    'GI_Absorption': 'High',\n",
    "    'BBB_Permeability': 'Yes',\n",
    "    'CYP3A4_Inhibitor': 'No',\n",
    "    'AMES_Toxicity': 'No',\n",
    "    'Hepatotoxicity': 'Yes'\n",
    "}\n",
    "\n",
    "# Convert to DataFrame and concatenate\n",
    "new_row = pd.DataFrame([new_data])\n",
    "admet_df = pd.concat([admet_df, new_row], ignore_index=True)\n",
    "\n",
    "# Save to CSV\n",
    "admet_df.to_csv('../results/admet_results.csv', index=False)\n",
    "print(\"✅ CMPD002 saved to admet_results.csv\")\n"
   ]
  },
  {
   "cell_type": "code",
   "execution_count": 6,
   "id": "408d9f5d",
   "metadata": {},
   "outputs": [
    {
     "name": "stdout",
     "output_type": "stream",
     "text": [
      "✅ CMPD005 saved to admet_results.csv\n"
     ]
    }
   ],
   "source": [
    "new_data = {\n",
    "    'compound_id': 'CMPD005',\n",
    "    'GI_Absorption': 'High',\n",
    "    'BBB_Permeability': 'Yes',\n",
    "    'CYP3A4_Inhibitor': 'No',\n",
    "    'AMES_Toxicity': 'No',\n",
    "    'Hepatotoxicity': 'No'\n",
    "}\n",
    "\n",
    "new_row = pd.DataFrame([new_data])\n",
    "admet_df = pd.concat([admet_df, new_row], ignore_index=True)\n",
    "admet_df.to_csv('../results/admet_results.csv', index=False)\n",
    "print(\"✅ CMPD005 saved to admet_results.csv\")\n"
   ]
  },
  {
   "cell_type": "code",
   "execution_count": 7,
   "id": "2b32e382",
   "metadata": {},
   "outputs": [
    {
     "name": "stdout",
     "output_type": "stream",
     "text": [
      "✅ CMPD003 saved to admet_results.csv\n"
     ]
    }
   ],
   "source": [
    "new_data = {\n",
    "    'compound_id': 'CMPD003',\n",
    "    'GI_Absorption': 'High',\n",
    "    'BBB_Permeability': 'Yes',\n",
    "    'CYP3A4_Inhibitor': 'No',\n",
    "    'AMES_Toxicity': 'No',\n",
    "    'Hepatotoxicity': 'No'\n",
    "}\n",
    "\n",
    "new_row = pd.DataFrame([new_data])\n",
    "admet_df = pd.concat([admet_df, new_row], ignore_index=True)\n",
    "admet_df.to_csv('../results/admet_results.csv', index=False)\n",
    "print(\"✅ CMPD003 saved to admet_results.csv\")\n"
   ]
  },
  {
   "cell_type": "code",
   "execution_count": 8,
   "id": "2b119fed",
   "metadata": {},
   "outputs": [
    {
     "name": "stdout",
     "output_type": "stream",
     "text": [
      "✅ CMPD004 saved to admet_results.csv\n"
     ]
    }
   ],
   "source": [
    "new_data = {\n",
    "    'compound_id': 'CMPD004',\n",
    "    'GI_Absorption': 'High',\n",
    "    'BBB_Permeability': 'Yes',\n",
    "    'CYP3A4_Inhibitor': 'No',\n",
    "    'AMES_Toxicity': 'No',\n",
    "    'Hepatotoxicity': 'No'\n",
    "}\n",
    "\n",
    "new_row = pd.DataFrame([new_data])\n",
    "admet_df = pd.concat([admet_df, new_row], ignore_index=True)\n",
    "admet_df.to_csv('../results/admet_results.csv', index=False)\n",
    "print(\"✅ CMPD004 saved to admet_results.csv\")\n"
   ]
  },
  {
   "cell_type": "code",
   "execution_count": 9,
   "id": "e0aa8f6b",
   "metadata": {},
   "outputs": [
    {
     "name": "stdout",
     "output_type": "stream",
     "text": [
      "✅ CMPD006 saved to admet_results.csv\n"
     ]
    }
   ],
   "source": [
    "new_data = {\n",
    "    'compound_id': 'CMPD006',\n",
    "    'GI_Absorption': 'High',\n",
    "    'BBB_Permeability': 'Yes',\n",
    "    'CYP3A4_Inhibitor': 'No',\n",
    "    'AMES_Toxicity': 'No',\n",
    "    'Hepatotoxicity': 'Yes'\n",
    "}\n",
    "\n",
    "new_row = pd.DataFrame([new_data])\n",
    "admet_df = pd.concat([admet_df, new_row], ignore_index=True)\n",
    "admet_df.to_csv('../results/admet_results.csv', index=False)\n",
    "print(\"✅ CMPD006 saved to admet_results.csv\")\n"
   ]
  },
  {
   "cell_type": "code",
   "execution_count": null,
   "id": "cf5cdcd4",
   "metadata": {},
   "outputs": [],
   "source": []
  }
 ],
 "metadata": {
  "kernelspec": {
   "display_name": "base",
   "language": "python",
   "name": "python3"
  },
  "language_info": {
   "codemirror_mode": {
    "name": "ipython",
    "version": 3
   },
   "file_extension": ".py",
   "mimetype": "text/x-python",
   "name": "python",
   "nbconvert_exporter": "python",
   "pygments_lexer": "ipython3",
   "version": "3.13.5"
  }
 },
 "nbformat": 4,
 "nbformat_minor": 5
}
