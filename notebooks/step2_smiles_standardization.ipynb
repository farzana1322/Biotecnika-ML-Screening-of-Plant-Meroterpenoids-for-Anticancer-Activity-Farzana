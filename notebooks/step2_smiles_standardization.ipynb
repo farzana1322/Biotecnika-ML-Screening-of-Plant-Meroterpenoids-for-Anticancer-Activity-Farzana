{
 "cells": [
  {
   "cell_type": "code",
   "execution_count": 7,
   "id": "44d1136c",
   "metadata": {},
   "outputs": [
    {
     "name": "stdout",
     "output_type": "stream",
     "text": [
      "    Compound_ID  SMILES\n",
      "20  Compound_ID  SMILES\n"
     ]
    }
   ],
   "source": [
    "invalid_rows = df_raw[df_raw['Mol'].isnull()]\n",
    "print(invalid_rows[['Compound_ID', 'SMILES']])\n"
   ]
  },
  {
   "cell_type": "code",
   "execution_count": 8,
   "id": "0c845667",
   "metadata": {},
   "outputs": [],
   "source": [
    "df_raw = pd.read_csv('../data/raw_meroterpenoids.csv')\n",
    "df_raw['Mol'] = df_raw['SMILES'].apply(Chem.MolFromSmiles)\n",
    "df_valid = df_raw.dropna(subset=['Mol'])\n",
    "df_valid['Canonical_SMILES'] = df_valid['Mol'].apply(lambda mol: Chem.MolToSmiles(mol, canonical=True))\n",
    "df_curated = df_valid[['Compound_ID', 'Canonical_SMILES']].rename(columns={'Canonical_SMILES': 'SMILES'})\n",
    "df_curated.to_csv('../data/curated_smiles.csv', index=False)\n"
   ]
  },
  {
   "cell_type": "code",
   "execution_count": 9,
   "id": "d8d5c08f",
   "metadata": {},
   "outputs": [
    {
     "name": "stdout",
     "output_type": "stream",
     "text": [
      "True\n"
     ]
    }
   ],
   "source": [
    "import os\n",
    "print(os.path.exists('../data/curated_smiles.csv'))\n"
   ]
  },
  {
   "cell_type": "code",
   "execution_count": 10,
   "id": "5b757941",
   "metadata": {},
   "outputs": [
    {
     "data": {
      "text/plain": [
       "'../backups/curated_smiles.csv'"
      ]
     },
     "execution_count": 10,
     "metadata": {},
     "output_type": "execute_result"
    }
   ],
   "source": [
    "import shutil\n",
    "shutil.copy('../data/curated_smiles.csv', '../backups/curated_smiles.csv')\n"
   ]
  },
  {
   "cell_type": "code",
   "execution_count": 11,
   "id": "ee4f49a1",
   "metadata": {},
   "outputs": [],
   "source": [
    "import pandas as pd\n",
    "\n",
    "# Paste your full list of 120 compounds\n",
    "compound_ids = ['M001', 'M002', ..., 'M120']  # Replace with actual list\n",
    "smiles_list = ['Cc1ccccc1C(=O)O', 'CN(C)C(=O)c1ccc(O)cc1', ..., 'CC(C)Cc1ccc(C(=O)O)c(C(C)CO)c1C(C)(COC)C(C)(COC)C(C)(C)O']  # Replace with actual SMILES\n",
    "\n",
    "df_raw = pd.DataFrame({\n",
    "    'Compound_ID': compound_ids,\n",
    "    'SMILES': smiles_list\n",
    "})\n",
    "\n",
    "df_raw.to_csv('../data/raw_meroterpenoids.csv', index=False)\n"
   ]
  },
  {
   "cell_type": "code",
   "execution_count": 12,
   "id": "5d4db3e3",
   "metadata": {},
   "outputs": [
    {
     "name": "stderr",
     "output_type": "stream",
     "text": [
      "[00:05:21] SMILES Parse Error: syntax error while parsing: Ellipsis\n",
      "[00:05:21] SMILES Parse Error: check for mistakes around position 1:\n",
      "[00:05:21] Ellipsis\n",
      "[00:05:21] ^\n",
      "[00:05:21] SMILES Parse Error: Failed parsing SMILES 'Ellipsis' for input: 'Ellipsis'\n",
      "C:\\Users\\farza\\AppData\\Local\\Temp\\ipykernel_21076\\4069862298.py:14: SettingWithCopyWarning: \n",
      "A value is trying to be set on a copy of a slice from a DataFrame.\n",
      "Try using .loc[row_indexer,col_indexer] = value instead\n",
      "\n",
      "See the caveats in the documentation: https://pandas.pydata.org/pandas-docs/stable/user_guide/indexing.html#returning-a-view-versus-a-copy\n",
      "  df_valid['Canonical_SMILES'] = df_valid['Mol'].apply(lambda mol: Chem.MolToSmiles(mol, canonical=True))\n"
     ]
    }
   ],
   "source": [
    "from rdkit import Chem\n",
    "import pandas as pd\n",
    "\n",
    "# Load raw SMILES\n",
    "df_raw = pd.read_csv('../data/raw_meroterpenoids.csv')\n",
    "\n",
    "# Convert to Mol objects\n",
    "df_raw['Mol'] = df_raw['SMILES'].apply(Chem.MolFromSmiles)\n",
    "\n",
    "# Drop invalid entries\n",
    "df_valid = df_raw.dropna(subset=['Mol'])\n",
    "\n",
    "# Generate canonical SMILES\n",
    "df_valid['Canonical_SMILES'] = df_valid['Mol'].apply(lambda mol: Chem.MolToSmiles(mol, canonical=True))\n",
    "\n",
    "# Save curated SMILES\n",
    "df_curated = df_valid[['Compound_ID', 'Canonical_SMILES']].rename(columns={'Canonical_SMILES': 'SMILES'})\n",
    "df_curated.to_csv('../data/curated_smiles.csv', index=False)\n"
   ]
  },
  {
   "cell_type": "code",
   "execution_count": 13,
   "id": "fae7c25f",
   "metadata": {},
   "outputs": [],
   "source": [
    "import pandas as pd\n",
    "\n",
    "# Replace with your full list\n",
    "compound_ids = ['M001', 'M002', ..., 'M120']\n",
    "smiles_list = ['Cc1ccccc1C(=O)O', 'CN(C)C(=O)c1ccc(O)cc1', ..., 'CC(C)Cc1ccc(C(=O)O)c(C(C)CO)c1C(C)(COC)C(C)(COC)C(C)(C)O']\n",
    "\n",
    "df_raw = pd.DataFrame({\n",
    "    'Compound_ID': compound_ids,\n",
    "    'SMILES': smiles_list\n",
    "})\n"
   ]
  },
  {
   "cell_type": "code",
   "execution_count": 14,
   "id": "3221329f",
   "metadata": {},
   "outputs": [],
   "source": [
    "df_raw.to_csv('../data/raw_meroterpenoids.csv', index=False)\n"
   ]
  },
  {
   "cell_type": "code",
   "execution_count": 15,
   "id": "24071443",
   "metadata": {},
   "outputs": [
    {
     "data": {
      "text/plain": [
       "'../backups/raw_meroterpenoids.csv'"
      ]
     },
     "execution_count": 15,
     "metadata": {},
     "output_type": "execute_result"
    }
   ],
   "source": [
    "import shutil\n",
    "shutil.copy('../data/raw_meroterpenoids.csv', '../backups/raw_meroterpenoids.csv')\n"
   ]
  },
  {
   "cell_type": "code",
   "execution_count": 16,
   "id": "65c4e996",
   "metadata": {},
   "outputs": [],
   "source": [
    "import pandas as pd\n",
    "from rdkit import Chem\n",
    "\n",
    "df_raw = pd.read_csv('../data/raw_meroterpenoids.csv')\n"
   ]
  },
  {
   "cell_type": "code",
   "execution_count": 17,
   "id": "2cce1c53",
   "metadata": {},
   "outputs": [
    {
     "name": "stderr",
     "output_type": "stream",
     "text": [
      "[00:15:32] SMILES Parse Error: syntax error while parsing: Ellipsis\n",
      "[00:15:32] SMILES Parse Error: check for mistakes around position 1:\n",
      "[00:15:32] Ellipsis\n",
      "[00:15:32] ^\n",
      "[00:15:32] SMILES Parse Error: Failed parsing SMILES 'Ellipsis' for input: 'Ellipsis'\n"
     ]
    }
   ],
   "source": [
    "df_raw['Mol'] = df_raw['SMILES'].apply(Chem.MolFromSmiles)\n"
   ]
  },
  {
   "cell_type": "code",
   "execution_count": 19,
   "id": "ecea1164",
   "metadata": {},
   "outputs": [
    {
     "name": "stdout",
     "output_type": "stream",
     "text": [
      "(120, 2)\n"
     ]
    }
   ],
   "source": [
    "import pandas as pd\n",
    "\n",
    "df_raw = pd.read_csv('../data/raw_meroterpenoids.csv')\n",
    "print(df_raw.shape)  # Should be (120, 2)\n"
   ]
  },
  {
   "cell_type": "code",
   "execution_count": 20,
   "id": "6b00300b",
   "metadata": {},
   "outputs": [
    {
     "data": {
      "text/plain": [
       "'../backups/raw_meroterpenoids.csv'"
      ]
     },
     "execution_count": 20,
     "metadata": {},
     "output_type": "execute_result"
    }
   ],
   "source": [
    "assert df_raw.shape[0] == 120\n",
    "df_raw.to_csv('../data/raw_meroterpenoids.csv', index=False)\n",
    "\n",
    "import shutil\n",
    "shutil.copy('../data/raw_meroterpenoids.csv', '../backups/raw_meroterpenoids.csv')\n"
   ]
  },
  {
   "cell_type": "code",
   "execution_count": 21,
   "id": "33079ef7",
   "metadata": {},
   "outputs": [],
   "source": [
    "import pandas as pd\n",
    "from rdkit import Chem\n",
    "\n",
    "df_raw = pd.read_csv('../data/raw_meroterpenoids.csv')\n"
   ]
  },
  {
   "cell_type": "code",
   "execution_count": 22,
   "id": "76d70ab4",
   "metadata": {},
   "outputs": [
    {
     "name": "stderr",
     "output_type": "stream",
     "text": [
      "[00:26:58] Can't kekulize mol.  Unkekulized atoms: 5 6 7 8 11 13 14\n"
     ]
    }
   ],
   "source": [
    "df_raw['Mol'] = df_raw['SMILES'].apply(Chem.MolFromSmiles)\n"
   ]
  },
  {
   "cell_type": "code",
   "execution_count": 23,
   "id": "d7a2f50c",
   "metadata": {},
   "outputs": [
    {
     "name": "stdout",
     "output_type": "stream",
     "text": [
      "Invalid SMILES at index 68: C/C(C)=C/Cc1ccc(CO)c(C)cc1\n"
     ]
    },
    {
     "name": "stderr",
     "output_type": "stream",
     "text": [
      "[00:28:04] Can't kekulize mol.  Unkekulized atoms: 5 6 7 8 11 13 14\n"
     ]
    }
   ],
   "source": [
    "for i, smi in enumerate(df_raw['SMILES']):\n",
    "    mol = Chem.MolFromSmiles(smi)\n",
    "    if mol is None:\n",
    "        print(f\"Invalid SMILES at index {i}: {smi}\")\n"
   ]
  },
  {
   "cell_type": "code",
   "execution_count": 24,
   "id": "cc6dda04",
   "metadata": {},
   "outputs": [
    {
     "ename": "SyntaxError",
     "evalue": "cannot assign to function call here. Maybe you meant '==' instead of '='? (221602468.py, line 2)",
     "output_type": "error",
     "traceback": [
      "  \u001b[36mCell\u001b[39m\u001b[36m \u001b[39m\u001b[32mIn[24]\u001b[39m\u001b[32m, line 2\u001b[39m\n\u001b[31m    \u001b[39m\u001b[31mM069,CC(C)=CCCc1ccc(CO)c(C)cc1\u001b[39m\n         ^\n\u001b[31mSyntaxError\u001b[39m\u001b[31m:\u001b[39m cannot assign to function call here. Maybe you meant '==' instead of '='?\n"
     ]
    }
   ],
   "source": [
    "# Suggested replacement for M069\n",
    "M069,CC(C)=CCCc1ccc(CO)c(C)cc1\n"
   ]
  },
  {
   "cell_type": "code",
   "execution_count": 26,
   "id": "11cf364c",
   "metadata": {},
   "outputs": [],
   "source": [
    "df_raw.loc[df_raw['Compound_ID'] == 'M069', 'SMILES'] = 'CC(C)=CCCc1ccc(CO)c(C)cc1'\n"
   ]
  },
  {
   "cell_type": "code",
   "execution_count": 27,
   "id": "d28c6176",
   "metadata": {},
   "outputs": [],
   "source": [
    "import pandas as pd\n",
    "from rdkit import Chem\n",
    "\n",
    "df_raw = pd.read_csv('../data/raw_meroterpenoids.csv')\n"
   ]
  },
  {
   "cell_type": "code",
   "execution_count": 28,
   "id": "23269e36",
   "metadata": {},
   "outputs": [
    {
     "name": "stderr",
     "output_type": "stream",
     "text": [
      "[00:36:35] Can't kekulize mol.  Unkekulized atoms: 5 6 7 8 11 13 14\n"
     ]
    }
   ],
   "source": [
    "df_raw['Mol'] = df_raw['SMILES'].apply(Chem.MolFromSmiles)\n"
   ]
  },
  {
   "cell_type": "code",
   "execution_count": 29,
   "id": "9c38aedf",
   "metadata": {},
   "outputs": [
    {
     "name": "stdout",
     "output_type": "stream",
     "text": [
      "Compound_ID                          M069\n",
      "SMILES         C/C(C)=C/Cc1ccc(CO)c(C)cc1\n",
      "Mol                                  None\n",
      "Name: 68, dtype: object\n"
     ]
    }
   ],
   "source": [
    "print(df_raw.iloc[68])\n"
   ]
  },
  {
   "cell_type": "code",
   "execution_count": 30,
   "id": "eded7f07",
   "metadata": {},
   "outputs": [
    {
     "name": "stderr",
     "output_type": "stream",
     "text": [
      "[00:38:43] Can't kekulize mol.  Unkekulized atoms: 5 6 7 8 11 13 14\n"
     ]
    }
   ],
   "source": [
    "df_raw['Mol'] = df_raw['SMILES'].apply(Chem.MolFromSmiles)\n",
    "\n",
    "\n",
    "\n",
    "\n"
   ]
  },
  {
   "cell_type": "code",
   "execution_count": 31,
   "id": "9ed7025e",
   "metadata": {},
   "outputs": [
    {
     "name": "stdout",
     "output_type": "stream",
     "text": [
      "False\n"
     ]
    },
    {
     "name": "stderr",
     "output_type": "stream",
     "text": [
      "[00:39:08] Can't kekulize mol.  Unkekulized atoms: 6 7 8 9 12 14 15\n"
     ]
    }
   ],
   "source": [
    "mol = Chem.MolFromSmiles('CC(C)=CCCc1ccc(CO)c(C)cc1')\n",
    "print(mol is not None)\n"
   ]
  },
  {
   "cell_type": "code",
   "execution_count": 32,
   "id": "94103f83",
   "metadata": {},
   "outputs": [],
   "source": [
    "# Alternative SMILES for M069\n",
    "df_raw.loc[df_raw['Compound_ID'] == 'M069', 'SMILES'] = 'CC(C)=CCCc1ccc(CO)cc1'\n"
   ]
  },
  {
   "cell_type": "code",
   "execution_count": 33,
   "id": "215eeb2d",
   "metadata": {},
   "outputs": [],
   "source": [
    "df_raw['Mol'] = df_raw['SMILES'].apply(Chem.MolFromSmiles)\n",
    "df_valid = df_raw.dropna(subset=['Mol'])\n",
    "df_valid.loc[:, 'Canonical_SMILES'] = df_valid['Mol'].apply(\n",
    "    lambda mol: Chem.MolToSmiles(mol, canonical=True)\n",
    ")\n"
   ]
  },
  {
   "cell_type": "code",
   "execution_count": 34,
   "id": "2561729b",
   "metadata": {},
   "outputs": [],
   "source": [
    "import pandas as pd\n",
    "from rdkit import Chem\n",
    "\n",
    "df_smiles = pd.read_csv('../data/curated_smiles.csv')\n"
   ]
  },
  {
   "cell_type": "code",
   "execution_count": 35,
   "id": "c1098de1",
   "metadata": {},
   "outputs": [],
   "source": [
    "df_smiles['Mol'] = df_smiles['SMILES'].apply(Chem.MolFromSmiles)\n"
   ]
  },
  {
   "cell_type": "code",
   "execution_count": 40,
   "id": "1e8ff590",
   "metadata": {},
   "outputs": [],
   "source": [
    "from rdkit.Chem.rdFingerprintGenerator import GetMorganGenerator\n",
    "from rdkit import DataStructs\n",
    "import numpy as np\n",
    "\n",
    "generator = GetMorganGenerator(radius=2, fpSize=1024)\n",
    "\n",
    "def mol_to_fp_new(mol):\n",
    "    fp = generator.GetFingerprint(mol)\n",
    "    arr = np.zeros((1,), dtype=int)\n",
    "    DataStructs.ConvertToNumpyArray(fp, arr)\n",
    "    return arr\n",
    "\n",
    "fp_array = np.array([mol_to_fp_new(mol) for mol in df_smiles['Mol']])\n"
   ]
  },
  {
   "cell_type": "code",
   "execution_count": 41,
   "id": "1e882eb4",
   "metadata": {},
   "outputs": [],
   "source": [
    "def estimate_ic50(smiles):\n",
    "    mol = Chem.MolFromSmiles(smiles)\n",
    "    if mol is None:\n",
    "        return None\n",
    "\n",
    "    # Count key features\n",
    "    n_oh = len(mol.GetSubstructMatches(Chem.MolFromSmarts('[OX2H]')))\n",
    "    n_cooh = len(mol.GetSubstructMatches(Chem.MolFromSmarts('C(=O)O')))\n",
    "    n_prenyl = len(mol.GetSubstructMatches(Chem.MolFromSmarts('C(C)=C')))\n",
    "    \n",
    "    # SAR logic: more polar groups → lower IC50\n",
    "    score = 5 - (n_oh + n_cooh) + n_prenyl\n",
    "    score = max(score, 0.1)  # Avoid negative or zero\n",
    "\n",
    "    # Convert to IC50 (µM)\n",
    "    import numpy as np\n",
    "    ic50 = round(10 ** score, 2)\n",
    "    return ic50\n"
   ]
  },
  {
   "cell_type": "code",
   "execution_count": 42,
   "id": "09590309",
   "metadata": {},
   "outputs": [],
   "source": [
    "df_curated['IC50_uM'] = df_curated['SMILES'].apply(estimate_ic50)\n",
    "df_curated.to_csv('../data/ic50_scaffolded.csv', index=False)\n"
   ]
  },
  {
   "cell_type": "code",
   "execution_count": 43,
   "id": "63f589ec",
   "metadata": {},
   "outputs": [
    {
     "data": {
      "text/plain": [
       "'../backups/ic50_scaffolded.csv'"
      ]
     },
     "execution_count": 43,
     "metadata": {},
     "output_type": "execute_result"
    }
   ],
   "source": [
    "import shutil\n",
    "shutil.copy('../data/ic50_scaffolded.csv', '../backups/ic50_scaffolded.csv')\n"
   ]
  },
  {
   "cell_type": "code",
   "execution_count": 44,
   "id": "50eba8e0",
   "metadata": {},
   "outputs": [
    {
     "name": "stdout",
     "output_type": "stream",
     "text": [
      "Raw SMILES count: 120\n"
     ]
    }
   ],
   "source": [
    "df_raw = pd.read_csv('../data/raw_meroterpenoids.csv')\n",
    "print(f\"Raw SMILES count: {len(df_raw)}\")\n"
   ]
  },
  {
   "cell_type": "code",
   "execution_count": 45,
   "id": "cbdd2572",
   "metadata": {},
   "outputs": [
    {
     "name": "stderr",
     "output_type": "stream",
     "text": [
      "[01:33:19] Can't kekulize mol.  Unkekulized atoms: 5 6 7 8 11 13 14\n",
      "C:\\Users\\farza\\AppData\\Local\\Temp\\ipykernel_21076\\3330054655.py:6: SettingWithCopyWarning: \n",
      "A value is trying to be set on a copy of a slice from a DataFrame.\n",
      "Try using .loc[row_indexer,col_indexer] = value instead\n",
      "\n",
      "See the caveats in the documentation: https://pandas.pydata.org/pandas-docs/stable/user_guide/indexing.html#returning-a-view-versus-a-copy\n",
      "  df_valid['Canonical_SMILES'] = df_valid['Mol'].apply(\n"
     ]
    }
   ],
   "source": [
    "from rdkit import Chem\n",
    "\n",
    "df_raw['Mol'] = df_raw['SMILES'].apply(Chem.MolFromSmiles)\n",
    "df_valid = df_raw.dropna(subset=['Mol'])\n",
    "\n",
    "df_valid['Canonical_SMILES'] = df_valid['Mol'].apply(\n",
    "    lambda mol: Chem.MolToSmiles(mol, canonical=True)\n",
    ")\n",
    "\n",
    "df_curated = df_valid[['Compound_ID', 'Canonical_SMILES']].rename(\n",
    "    columns={'Canonical_SMILES': 'SMILES'}\n",
    ")\n",
    "df_curated.to_csv('../data/curated_smiles.csv', index=False)\n"
   ]
  },
  {
   "cell_type": "code",
   "execution_count": 46,
   "id": "d53ae198",
   "metadata": {},
   "outputs": [
    {
     "name": "stdout",
     "output_type": "stream",
     "text": [
      "Invalid SMILES at index 68: C/C(C)=C/Cc1ccc(CO)c(C)cc1\n"
     ]
    },
    {
     "name": "stderr",
     "output_type": "stream",
     "text": [
      "[01:34:17] Can't kekulize mol.  Unkekulized atoms: 5 6 7 8 11 13 14\n"
     ]
    }
   ],
   "source": [
    "for i, smi in enumerate(df_raw['SMILES']):\n",
    "    mol = Chem.MolFromSmiles(smi)\n",
    "    if mol is None:\n",
    "        print(f\"Invalid SMILES at index {i}: {smi}\")\n"
   ]
  },
  {
   "cell_type": "code",
   "execution_count": 47,
   "id": "0b798e10",
   "metadata": {},
   "outputs": [],
   "source": [
    "df_raw = df_raw.drop(index=i)  # or fix manually\n"
   ]
  },
  {
   "cell_type": "code",
   "execution_count": 48,
   "id": "a93ad0d1",
   "metadata": {},
   "outputs": [],
   "source": [
    "df_valid.loc[:, 'Canonical_SMILES'] = df_valid['Mol'].apply(\n",
    "    lambda mol: Chem.MolToSmiles(mol, canonical=True)\n",
    ")\n"
   ]
  },
  {
   "cell_type": "code",
   "execution_count": 50,
   "id": "6ef74d7f",
   "metadata": {},
   "outputs": [
    {
     "data": {
      "text/plain": [
       "'../backups/curated_smiles_backup.csv'"
      ]
     },
     "execution_count": 50,
     "metadata": {},
     "output_type": "execute_result"
    }
   ],
   "source": [
    "import shutil\n",
    "\n",
    "shutil.copy('../data/curated_smiles.csv', '../backups/curated_smiles_backup.csv')\n"
   ]
  },
  {
   "cell_type": "code",
   "execution_count": 51,
   "id": "fd237f3b",
   "metadata": {},
   "outputs": [
    {
     "name": "stderr",
     "output_type": "stream",
     "text": [
      "[01:40:11] Can't kekulize mol.  Unkekulized atoms: 5 6 7 8 11 13 14\n"
     ]
    }
   ],
   "source": [
    "import pandas as pd\n",
    "from rdkit import Chem\n",
    "\n",
    "df_raw = pd.read_csv('../data/raw_meroterpenoids.csv')\n",
    "df_raw['Mol'] = df_raw['SMILES'].apply(Chem.MolFromSmiles)\n",
    "\n",
    "# Drop invalid molecules\n",
    "df_valid = df_raw.dropna(subset=['Mol']).reset_index(drop=True).copy()\n",
    "\n",
    "# Canonicalize safely\n",
    "df_valid.loc[:, 'Canonical_SMILES'] = df_valid['Mol'].apply(\n",
    "    lambda mol: Chem.MolToSmiles(mol, canonical=True)\n",
    ")\n",
    "\n",
    "# Save curated SMILES\n",
    "df_curated = df_valid[['Compound_ID', 'Canonical_SMILES']].rename(\n",
    "    columns={'Canonical_SMILES': 'SMILES'}\n",
    ")\n",
    "df_curated.to_csv('../data/curated_smiles.csv', index=False)\n"
   ]
  },
  {
   "cell_type": "code",
   "execution_count": 52,
   "id": "704d3be4",
   "metadata": {},
   "outputs": [
    {
     "name": "stdout",
     "output_type": "stream",
     "text": [
      "Invalid SMILES at index 68: C/C(C)=C/Cc1ccc(CO)c(C)cc1\n"
     ]
    },
    {
     "name": "stderr",
     "output_type": "stream",
     "text": [
      "[01:41:54] Can't kekulize mol.  Unkekulized atoms: 5 6 7 8 11 13 14\n"
     ]
    }
   ],
   "source": [
    "for i, smi in enumerate(df_raw['SMILES']):\n",
    "    mol = Chem.MolFromSmiles(smi)\n",
    "    if mol is None:\n",
    "        print(f\"Invalid SMILES at index {i}: {smi}\")\n"
   ]
  },
  {
   "cell_type": "code",
   "execution_count": 53,
   "id": "0c106162",
   "metadata": {},
   "outputs": [],
   "source": [
    "df_raw.loc[68, 'SMILES'] = 'CC(C)=CCCc1ccc(CO)c(C)cc1'\n"
   ]
  },
  {
   "cell_type": "code",
   "execution_count": 54,
   "id": "0d437fab",
   "metadata": {},
   "outputs": [
    {
     "name": "stderr",
     "output_type": "stream",
     "text": [
      "[01:43:41] Can't kekulize mol.  Unkekulized atoms: 6 7 8 9 12 14 15\n"
     ]
    }
   ],
   "source": [
    "from rdkit import Chem\n",
    "\n",
    "df_raw['Mol'] = df_raw['SMILES'].apply(Chem.MolFromSmiles)\n",
    "df_valid = df_raw.dropna(subset=['Mol']).reset_index(drop=True).copy()\n"
   ]
  },
  {
   "cell_type": "code",
   "execution_count": 55,
   "id": "29f8a3fb",
   "metadata": {},
   "outputs": [
    {
     "name": "stderr",
     "output_type": "stream",
     "text": [
      "[01:45:40] Can't kekulize mol.  Unkekulized atoms: 6 7 8 9 12 14 15\n"
     ]
    }
   ],
   "source": [
    "df_raw['Mol'] = df_raw['SMILES'].apply(Chem.MolFromSmiles)\n",
    "df_valid = df_raw.dropna(subset=['Mol']).reset_index(drop=True).copy()\n"
   ]
  },
  {
   "cell_type": "code",
   "execution_count": 56,
   "id": "d40b8d73",
   "metadata": {},
   "outputs": [
    {
     "name": "stderr",
     "output_type": "stream",
     "text": [
      "[01:46:44] Can't kekulize mol.  Unkekulized atoms: 6 7 8 9 12 14 15\n"
     ]
    }
   ],
   "source": [
    "from rdkit import Chem\n",
    "\n",
    "def safe_canonicalize(smi):\n",
    "    mol = Chem.MolFromSmiles(smi)\n",
    "    if mol is None:\n",
    "        return None\n",
    "    try:\n",
    "        return Chem.MolToSmiles(mol, canonical=True)\n",
    "    except:\n",
    "        return None\n",
    "\n",
    "df_raw['Canonical_SMILES'] = df_raw['SMILES'].apply(safe_canonicalize)\n",
    "df_curated = df_raw.dropna(subset=['Canonical_SMILES'])[['Compound_ID', 'Canonical_SMILES']]\n",
    "df_curated = df_curated.rename(columns={'Canonical_SMILES': 'SMILES'})\n",
    "df_curated.to_csv('../data/curated_smiles.csv', index=False)\n"
   ]
  },
  {
   "cell_type": "code",
   "execution_count": 57,
   "id": "1d5f9754",
   "metadata": {},
   "outputs": [
    {
     "name": "stderr",
     "output_type": "stream",
     "text": [
      "[01:47:40] Can't kekulize mol.  Unkekulized atoms: 5 6 7 8 11 13 14\n"
     ]
    }
   ],
   "source": [
    "from rdkit import Chem\n",
    "import pandas as pd\n",
    "\n",
    "def safe_canonicalize(smi):\n",
    "    try:\n",
    "        mol = Chem.MolFromSmiles(smi)\n",
    "        if mol is None:\n",
    "            return None\n",
    "        return Chem.MolToSmiles(mol, canonical=True)\n",
    "    except:\n",
    "        return None\n",
    "\n",
    "df_raw = pd.read_csv('../data/raw_meroterpenoids.csv')\n",
    "df_raw['Canonical_SMILES'] = df_raw['SMILES'].apply(safe_canonicalize)\n",
    "df_curated = df_raw.dropna(subset=['Canonical_SMILES'])[['Compound_ID', 'Canonical_SMILES']]\n",
    "df_curated = df_curated.rename(columns={'Canonical_SMILES': 'SMILES'})\n",
    "df_curated.to_csv('../data/curated_smiles.csv', index=False)\n"
   ]
  },
  {
   "cell_type": "code",
   "execution_count": 58,
   "id": "0c8974c8",
   "metadata": {},
   "outputs": [
    {
     "name": "stderr",
     "output_type": "stream",
     "text": [
      "[01:49:18] Can't kekulize mol.  Unkekulized atoms: 5 6 7 8 11 13 14\n"
     ]
    }
   ],
   "source": [
    "from rdkit import Chem\n",
    "import pandas as pd\n",
    "\n",
    "def safe_canonicalize(smi):\n",
    "    try:\n",
    "        mol = Chem.MolFromSmiles(smi)\n",
    "        if mol is None:\n",
    "            return None\n",
    "        return Chem.MolToSmiles(mol, canonical=True)\n",
    "    except:\n",
    "        return None\n",
    "\n",
    "df_raw = pd.read_csv('../data/raw_meroterpenoids.csv')\n",
    "df_raw['Canonical_SMILES'] = df_raw['SMILES'].apply(safe_canonicalize)\n",
    "df_curated = df_raw.dropna(subset=['Canonical_SMILES'])[['Compound_ID', 'Canonical_SMILES']]\n",
    "df_curated = df_curated.rename(columns={'Canonical_SMILES': 'SMILES'})\n",
    "df_curated.to_csv('../data/curated_smiles.csv', index=False)\n"
   ]
  },
  {
   "cell_type": "code",
   "execution_count": 59,
   "id": "60cc7c78",
   "metadata": {},
   "outputs": [
    {
     "name": "stderr",
     "output_type": "stream",
     "text": [
      "[01:50:52] Can't kekulize mol.  Unkekulized atoms: 5 6 7 8 11 13 14\n"
     ]
    }
   ],
   "source": [
    "from rdkit import Chem\n",
    "import pandas as pd\n",
    "\n",
    "def safe_canonicalize(smi):\n",
    "    try:\n",
    "        mol = Chem.MolFromSmiles(smi)\n",
    "        if mol is None:\n",
    "            return None\n",
    "        return Chem.MolToSmiles(mol, canonical=True)\n",
    "    except:\n",
    "        return None\n",
    "\n",
    "df_raw = pd.read_csv('../data/raw_meroterpenoids.csv')\n",
    "df_raw['Canonical_SMILES'] = df_raw['SMILES'].apply(safe_canonicalize)\n",
    "df_curated = df_raw.dropna(subset=['Canonical_SMILES'])[['Compound_ID', 'Canonical_SMILES']]\n",
    "df_curated = df_curated.rename(columns={'Canonical_SMILES': 'SMILES'})\n",
    "df_curated.to_csv('../data/curated_smiles.csv', index=False)\n"
   ]
  },
  {
   "cell_type": "code",
   "execution_count": 60,
   "id": "cf32688f",
   "metadata": {},
   "outputs": [],
   "source": [
    "from rdkit import RDLogger\n",
    "RDLogger.DisableLog('rdApp.*')\n"
   ]
  },
  {
   "cell_type": "code",
   "execution_count": 61,
   "id": "30ac51ec",
   "metadata": {},
   "outputs": [
    {
     "data": {
      "text/plain": [
       "'../backups/curated_smiles_backup.csv'"
      ]
     },
     "execution_count": 61,
     "metadata": {},
     "output_type": "execute_result"
    }
   ],
   "source": [
    "import shutil\n",
    "shutil.copy('../data/curated_smiles.csv', '../backups/curated_smiles_backup.csv')\n"
   ]
  },
  {
   "cell_type": "markdown",
   "id": "e134b3c9",
   "metadata": {},
   "source": [
    "###  Virtual Library Construction  \n",
    "Deduplicate curated SMILES and prepare virtual screening input.\n"
   ]
  },
  {
   "cell_type": "code",
   "execution_count": 1,
   "id": "64b995dc",
   "metadata": {},
   "outputs": [],
   "source": [
    "import pandas as pd\n",
    "\n",
    "df_inhouse = pd.read_csv('../data/curated_smiles.csv')\n",
    "df_inhouse.drop_duplicates(subset='SMILES', inplace=True)\n",
    "df_inhouse.to_csv('../data/virtual_library.csv', index=False)\n"
   ]
  }
 ],
 "metadata": {
  "kernelspec": {
   "display_name": "rdkit_env",
   "language": "python",
   "name": "python3"
  },
  "language_info": {
   "codemirror_mode": {
    "name": "ipython",
    "version": 3
   },
   "file_extension": ".py",
   "mimetype": "text/x-python",
   "name": "python",
   "nbconvert_exporter": "python",
   "pygments_lexer": "ipython3",
   "version": "3.13.7"
  }
 },
 "nbformat": 4,
 "nbformat_minor": 5
}
