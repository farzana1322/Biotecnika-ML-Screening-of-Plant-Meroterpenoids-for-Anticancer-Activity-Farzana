{
 "cells": [
  {
   "cell_type": "code",
   "execution_count": 2,
   "id": "1abcc976",
   "metadata": {},
   "outputs": [],
   "source": [
    "import pandas as pd\n",
    "import numpy as np\n",
    "import joblib\n",
    "\n",
    "# Reproducibility\n",
    "np.random.seed(42)\n"
   ]
  },
  {
   "cell_type": "code",
   "execution_count": 3,
   "id": "db1094cf",
   "metadata": {},
   "outputs": [
    {
     "data": {
      "text/html": [
       "<div>\n",
       "<style scoped>\n",
       "    .dataframe tbody tr th:only-of-type {\n",
       "        vertical-align: middle;\n",
       "    }\n",
       "\n",
       "    .dataframe tbody tr th {\n",
       "        vertical-align: top;\n",
       "    }\n",
       "\n",
       "    .dataframe thead th {\n",
       "        text-align: right;\n",
       "    }\n",
       "</style>\n",
       "<table border=\"1\" class=\"dataframe\">\n",
       "  <thead>\n",
       "    <tr style=\"text-align: right;\">\n",
       "      <th></th>\n",
       "      <th>compound_id</th>\n",
       "      <th>MolWt</th>\n",
       "      <th>LogP</th>\n",
       "      <th>TPSA</th>\n",
       "      <th>NumHDonors</th>\n",
       "      <th>NumHAcceptors</th>\n",
       "      <th>NumRotatableBonds</th>\n",
       "      <th>RingCount</th>\n",
       "      <th>ECFP_0</th>\n",
       "      <th>ECFP_1</th>\n",
       "      <th>...</th>\n",
       "      <th>ECFP_1014</th>\n",
       "      <th>ECFP_1015</th>\n",
       "      <th>ECFP_1016</th>\n",
       "      <th>ECFP_1017</th>\n",
       "      <th>ECFP_1018</th>\n",
       "      <th>ECFP_1019</th>\n",
       "      <th>ECFP_1020</th>\n",
       "      <th>ECFP_1021</th>\n",
       "      <th>ECFP_1022</th>\n",
       "      <th>ECFP_1023</th>\n",
       "    </tr>\n",
       "  </thead>\n",
       "  <tbody>\n",
       "    <tr>\n",
       "      <th>0</th>\n",
       "      <td>CMPD001</td>\n",
       "      <td>124.139</td>\n",
       "      <td>0.4325</td>\n",
       "      <td>37.3</td>\n",
       "      <td>1</td>\n",
       "      <td>2</td>\n",
       "      <td>0</td>\n",
       "      <td>1</td>\n",
       "      <td>0</td>\n",
       "      <td>0</td>\n",
       "      <td>...</td>\n",
       "      <td>0</td>\n",
       "      <td>0</td>\n",
       "      <td>0</td>\n",
       "      <td>0</td>\n",
       "      <td>0</td>\n",
       "      <td>1</td>\n",
       "      <td>0</td>\n",
       "      <td>0</td>\n",
       "      <td>0</td>\n",
       "      <td>0</td>\n",
       "    </tr>\n",
       "    <tr>\n",
       "      <th>1</th>\n",
       "      <td>CMPD002</td>\n",
       "      <td>168.236</td>\n",
       "      <td>2.2874</td>\n",
       "      <td>37.3</td>\n",
       "      <td>1</td>\n",
       "      <td>1</td>\n",
       "      <td>1</td>\n",
       "      <td>2</td>\n",
       "      <td>0</td>\n",
       "      <td>0</td>\n",
       "      <td>...</td>\n",
       "      <td>0</td>\n",
       "      <td>0</td>\n",
       "      <td>0</td>\n",
       "      <td>0</td>\n",
       "      <td>0</td>\n",
       "      <td>1</td>\n",
       "      <td>0</td>\n",
       "      <td>0</td>\n",
       "      <td>0</td>\n",
       "      <td>1</td>\n",
       "    </tr>\n",
       "    <tr>\n",
       "      <th>2</th>\n",
       "      <td>CMPD003</td>\n",
       "      <td>192.258</td>\n",
       "      <td>2.9981</td>\n",
       "      <td>37.3</td>\n",
       "      <td>1</td>\n",
       "      <td>1</td>\n",
       "      <td>3</td>\n",
       "      <td>1</td>\n",
       "      <td>0</td>\n",
       "      <td>1</td>\n",
       "      <td>...</td>\n",
       "      <td>0</td>\n",
       "      <td>0</td>\n",
       "      <td>0</td>\n",
       "      <td>0</td>\n",
       "      <td>0</td>\n",
       "      <td>0</td>\n",
       "      <td>0</td>\n",
       "      <td>0</td>\n",
       "      <td>0</td>\n",
       "      <td>0</td>\n",
       "    </tr>\n",
       "  </tbody>\n",
       "</table>\n",
       "<p>3 rows × 1032 columns</p>\n",
       "</div>"
      ],
      "text/plain": [
       "  compound_id    MolWt    LogP  TPSA  NumHDonors  NumHAcceptors  \\\n",
       "0     CMPD001  124.139  0.4325  37.3           1              2   \n",
       "1     CMPD002  168.236  2.2874  37.3           1              1   \n",
       "2     CMPD003  192.258  2.9981  37.3           1              1   \n",
       "\n",
       "   NumRotatableBonds  RingCount  ECFP_0  ECFP_1  ...  ECFP_1014  ECFP_1015  \\\n",
       "0                  0          1       0       0  ...          0          0   \n",
       "1                  1          2       0       0  ...          0          0   \n",
       "2                  3          1       0       1  ...          0          0   \n",
       "\n",
       "   ECFP_1016  ECFP_1017  ECFP_1018  ECFP_1019  ECFP_1020  ECFP_1021  \\\n",
       "0          0          0          0          1          0          0   \n",
       "1          0          0          0          1          0          0   \n",
       "2          0          0          0          0          0          0   \n",
       "\n",
       "   ECFP_1022  ECFP_1023  \n",
       "0          0          0  \n",
       "1          0          1  \n",
       "2          0          0  \n",
       "\n",
       "[3 rows x 1032 columns]"
      ]
     },
     "execution_count": 3,
     "metadata": {},
     "output_type": "execute_result"
    }
   ],
   "source": [
    "# Load descriptor matrix\n",
    "desc_df = pd.read_csv('../data/descriptor_matrix.csv')\n",
    "\n",
    "# Preview top rows\n",
    "desc_df.head()\n"
   ]
  },
  {
   "cell_type": "code",
   "execution_count": 6,
   "id": "ae4e4286",
   "metadata": {},
   "outputs": [
    {
     "name": "stdout",
     "output_type": "stream",
     "text": [
      "Label distribution: {np.int64(0): np.int64(2), np.int64(1): np.int64(1)}\n"
     ]
    }
   ],
   "source": [
    "# Create balanced dummy labels (equal 0s and 1s)\n",
    "y = np.array([0, 1] * (len(X) // 2))\n",
    "y = np.append(y, [0] * (len(X) % 2))  # Pad with 0 if odd number\n",
    "\n",
    "# Confirm label distribution\n",
    "unique, counts = np.unique(y, return_counts=True)\n",
    "print(\"Label distribution:\", dict(zip(unique, counts)))\n"
   ]
  },
  {
   "cell_type": "code",
   "execution_count": 7,
   "id": "2f405b61",
   "metadata": {},
   "outputs": [],
   "source": [
    "from sklearn.model_selection import train_test_split\n",
    "\n",
    "# Use balanced dummy labels from earlier\n",
    "X_train, X_test, y_train, y_test = train_test_split(\n",
    "    X, y, test_size=0.2, random_state=42\n",
    ")\n"
   ]
  },
  {
   "cell_type": "code",
   "execution_count": 8,
   "id": "85c8c313",
   "metadata": {},
   "outputs": [
    {
     "name": "stdout",
     "output_type": "stream",
     "text": [
      "Model trained successfully 💼🧬\n"
     ]
    }
   ],
   "source": [
    "from sklearn.ensemble import RandomForestClassifier\n",
    "\n",
    "# Initialize model\n",
    "rf_model = RandomForestClassifier(\n",
    "    n_estimators=200,\n",
    "    max_depth=10,\n",
    "    random_state=42\n",
    ")\n",
    "\n",
    "# Train the model\n",
    "rf_model.fit(X_train, y_train)\n",
    "\n",
    "print(\"Model trained successfully 💼🧬\")\n"
   ]
  },
  {
   "cell_type": "code",
   "execution_count": 9,
   "id": "806792fb",
   "metadata": {},
   "outputs": [
    {
     "name": "stdout",
     "output_type": "stream",
     "text": [
      "Model saved successfully 💾💼\n"
     ]
    }
   ],
   "source": [
    "import joblib\n",
    "\n",
    "# Save the trained model to models/ folder\n",
    "joblib.dump(rf_model, '../models/random_forest_model.joblib')\n",
    "\n",
    "print(\"Model saved successfully 💾💼\")\n"
   ]
  },
  {
   "cell_type": "code",
   "execution_count": 10,
   "id": "54843bc5",
   "metadata": {},
   "outputs": [
    {
     "data": {
      "text/html": [
       "<div>\n",
       "<style scoped>\n",
       "    .dataframe tbody tr th:only-of-type {\n",
       "        vertical-align: middle;\n",
       "    }\n",
       "\n",
       "    .dataframe tbody tr th {\n",
       "        vertical-align: top;\n",
       "    }\n",
       "\n",
       "    .dataframe thead th {\n",
       "        text-align: right;\n",
       "    }\n",
       "</style>\n",
       "<table border=\"1\" class=\"dataframe\">\n",
       "  <thead>\n",
       "    <tr style=\"text-align: right;\">\n",
       "      <th></th>\n",
       "      <th>compound_id</th>\n",
       "      <th>Predicted_Probability</th>\n",
       "    </tr>\n",
       "  </thead>\n",
       "  <tbody>\n",
       "    <tr>\n",
       "      <th>0</th>\n",
       "      <td>CMPD001</td>\n",
       "      <td>0.525</td>\n",
       "    </tr>\n",
       "    <tr>\n",
       "      <th>1</th>\n",
       "      <td>CMPD002</td>\n",
       "      <td>0.770</td>\n",
       "    </tr>\n",
       "    <tr>\n",
       "      <th>2</th>\n",
       "      <td>CMPD003</td>\n",
       "      <td>0.275</td>\n",
       "    </tr>\n",
       "  </tbody>\n",
       "</table>\n",
       "</div>"
      ],
      "text/plain": [
       "  compound_id  Predicted_Probability\n",
       "0     CMPD001                  0.525\n",
       "1     CMPD002                  0.770\n",
       "2     CMPD003                  0.275"
      ]
     },
     "execution_count": 10,
     "metadata": {},
     "output_type": "execute_result"
    }
   ],
   "source": [
    "# Drop non-feature columns if present\n",
    "X_screen = desc_df.drop(columns=['compound_id'], errors='ignore')\n",
    "\n",
    "# Predict probabilities using the trained model\n",
    "desc_df['Predicted_Probability'] = rf_model.predict_proba(X_screen)[:, 1]\n",
    "\n",
    "# Preview top predictions\n",
    "desc_df[['compound_id', 'Predicted_Probability']].head()\n"
   ]
  },
  {
   "cell_type": "code",
   "execution_count": 12,
   "id": "7f971980",
   "metadata": {},
   "outputs": [
    {
     "name": "stdout",
     "output_type": "stream",
     "text": [
      "Screening results saved successfully 💾🧬\n"
     ]
    }
   ],
   "source": [
    "# Sort compounds by predicted probability (highest first)\n",
    "desc_df = desc_df.sort_values(by='Predicted_Probability', ascending=False)\n",
    "\n",
    "# Save top hits to results folder\n",
    "desc_df.to_csv('../results/screening_results.csv', index=False)\n",
    "\n",
    "print(\"Screening results saved successfully 💾🧬\")\n"
   ]
  },
  {
   "cell_type": "code",
   "execution_count": null,
   "id": "66d76606",
   "metadata": {},
   "outputs": [],
   "source": []
  }
 ],
 "metadata": {
  "kernelspec": {
   "display_name": "base",
   "language": "python",
   "name": "python3"
  },
  "language_info": {
   "codemirror_mode": {
    "name": "ipython",
    "version": 3
   },
   "file_extension": ".py",
   "mimetype": "text/x-python",
   "name": "python",
   "nbconvert_exporter": "python",
   "pygments_lexer": "ipython3",
   "version": "3.13.5"
  }
 },
 "nbformat": 4,
 "nbformat_minor": 5
}
