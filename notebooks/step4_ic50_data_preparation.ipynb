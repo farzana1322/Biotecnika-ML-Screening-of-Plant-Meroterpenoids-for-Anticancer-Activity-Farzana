{
 "cells": [
  {
   "cell_type": "code",
   "execution_count": 1,
   "id": "119512d8",
   "metadata": {},
   "outputs": [],
   "source": [
    "import pandas as pd\n",
    "import numpy as np\n",
    "\n",
    "# Generate 60 compound IDs\n",
    "compound_ids = [f\"M{str(i).zfill(3)}\" for i in range(1, 61)]\n",
    "\n",
    "# Simulate IC50 values (µM) using a uniform distribution\n",
    "np.random.seed(42)  # for reproducibility\n",
    "ic50_values = np.round(np.random.uniform(0.5, 3.5, size=60), 2)\n",
    "\n",
    "# Create DataFrame\n",
    "df_ic50 = pd.DataFrame({\n",
    "    'Compound_ID': compound_ids,\n",
    "    'IC50': ic50_values\n",
    "})\n",
    "\n",
    "# Save to CSV\n",
    "df_ic50.to_csv('../data/ic50_values.csv', index=False)\n"
   ]
  },
  {
   "cell_type": "code",
   "execution_count": 2,
   "id": "719fba5d",
   "metadata": {},
   "outputs": [
    {
     "data": {
      "text/plain": [
       "'../backups/ic50_values.csv'"
      ]
     },
     "execution_count": 2,
     "metadata": {},
     "output_type": "execute_result"
    }
   ],
   "source": [
    "import shutil\n",
    "shutil.copy('../data/ic50_values.csv', '../backups/ic50_values.csv')\n"
   ]
  },
  {
   "cell_type": "code",
   "execution_count": null,
   "id": "f087c5e1",
   "metadata": {},
   "outputs": [],
   "source": []
  }
 ],
 "metadata": {
  "kernelspec": {
   "display_name": "base",
   "language": "python",
   "name": "python3"
  },
  "language_info": {
   "codemirror_mode": {
    "name": "ipython",
    "version": 3
   },
   "file_extension": ".py",
   "mimetype": "text/x-python",
   "name": "python",
   "nbconvert_exporter": "python",
   "pygments_lexer": "ipython3",
   "version": "3.13.5"
  }
 },
 "nbformat": 4,
 "nbformat_minor": 5
}
